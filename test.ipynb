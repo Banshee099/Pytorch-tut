{
 "cells": [
  {
   "metadata": {
    "ExecuteTime": {
     "end_time": "2025-05-30T13:45:03.075792Z",
     "start_time": "2025-05-30T13:45:01.022973Z"
    }
   },
   "cell_type": "code",
   "source": [
    "import torch\n",
    "import  pandas as pd\n",
    "import matplotlib.pyplot as plt\n",
    "print(torch.cuda.is_available())"
   ],
   "id": "a496f7567d69ea78",
   "outputs": [
    {
     "name": "stdout",
     "output_type": "stream",
     "text": [
      "True\n"
     ]
    }
   ],
   "execution_count": 1
  },
  {
   "metadata": {
    "ExecuteTime": {
     "end_time": "2025-05-30T13:45:03.171475Z",
     "start_time": "2025-05-30T13:45:03.168249Z"
    }
   },
   "cell_type": "code",
   "source": "random = torch.randn(5, 5,1)",
   "id": "3b6bb3066b8f5ada",
   "outputs": [],
   "execution_count": 2
  },
  {
   "metadata": {
    "ExecuteTime": {
     "end_time": "2025-05-30T13:45:03.234008Z",
     "start_time": "2025-05-30T13:45:03.224182Z"
    }
   },
   "cell_type": "code",
   "source": "random",
   "id": "9dbf58424a5dea89",
   "outputs": [
    {
     "data": {
      "text/plain": [
       "tensor([[[ 0.5674],\n",
       "         [ 0.3844],\n",
       "         [-0.3160],\n",
       "         [ 1.6396],\n",
       "         [ 0.6234]],\n",
       "\n",
       "        [[ 1.2791],\n",
       "         [-0.5104],\n",
       "         [ 0.7304],\n",
       "         [-0.3966],\n",
       "         [ 0.0413]],\n",
       "\n",
       "        [[ 1.9532],\n",
       "         [-0.6812],\n",
       "         [ 1.1339],\n",
       "         [-0.6450],\n",
       "         [-1.4458]],\n",
       "\n",
       "        [[-0.1086],\n",
       "         [ 1.1622],\n",
       "         [-0.7165],\n",
       "         [-0.6686],\n",
       "         [-0.4546]],\n",
       "\n",
       "        [[ 0.6593],\n",
       "         [-2.6193],\n",
       "         [-0.2956],\n",
       "         [ 1.3827],\n",
       "         [-0.6522]]])"
      ]
     },
     "execution_count": 3,
     "metadata": {},
     "output_type": "execute_result"
    }
   ],
   "execution_count": 3
  },
  {
   "metadata": {
    "ExecuteTime": {
     "end_time": "2025-05-30T13:45:03.291667Z",
     "start_time": "2025-05-30T13:45:03.284650Z"
    }
   },
   "cell_type": "code",
   "source": "random.ndim",
   "id": "4b03c79e4be88fb5",
   "outputs": [
    {
     "data": {
      "text/plain": [
       "3"
      ]
     },
     "execution_count": 4,
     "metadata": {},
     "output_type": "execute_result"
    }
   ],
   "execution_count": 4
  },
  {
   "metadata": {
    "ExecuteTime": {
     "end_time": "2025-05-30T13:45:03.348542Z",
     "start_time": "2025-05-30T13:45:03.345449Z"
    }
   },
   "cell_type": "code",
   "source": "random_image = torch.rand(size=(224,224,3))",
   "id": "3b436ad381873e30",
   "outputs": [],
   "execution_count": 5
  },
  {
   "metadata": {
    "ExecuteTime": {
     "end_time": "2025-05-30T13:45:03.411955Z",
     "start_time": "2025-05-30T13:45:03.405007Z"
    }
   },
   "cell_type": "code",
   "source": "random_image.shape, random_image.ndim",
   "id": "74cd5444b94ba784",
   "outputs": [
    {
     "data": {
      "text/plain": [
       "(torch.Size([224, 224, 3]), 3)"
      ]
     },
     "execution_count": 6,
     "metadata": {},
     "output_type": "execute_result"
    }
   ],
   "execution_count": 6
  },
  {
   "metadata": {
    "ExecuteTime": {
     "end_time": "2025-05-30T13:45:03.644389Z",
     "start_time": "2025-05-30T13:45:03.457836Z"
    }
   },
   "cell_type": "code",
   "source": "r = random_image.cuda()",
   "id": "4679657dc01a0cae",
   "outputs": [],
   "execution_count": 7
  },
  {
   "metadata": {
    "ExecuteTime": {
     "end_time": "2025-05-30T13:45:03.793670Z",
     "start_time": "2025-05-30T13:45:03.791201Z"
    }
   },
   "cell_type": "code",
   "source": [
    "del r\n",
    "torch.cuda.empty_cache()"
   ],
   "id": "6171e553c8bc16df",
   "outputs": [],
   "execution_count": 8
  },
  {
   "metadata": {
    "ExecuteTime": {
     "end_time": "2025-05-30T13:45:03.858944Z",
     "start_time": "2025-05-30T13:45:03.851160Z"
    }
   },
   "cell_type": "code",
   "source": "torch.ones(size=(5,5))",
   "id": "b34936cbbe9f14c1",
   "outputs": [
    {
     "data": {
      "text/plain": [
       "tensor([[1., 1., 1., 1., 1.],\n",
       "        [1., 1., 1., 1., 1.],\n",
       "        [1., 1., 1., 1., 1.],\n",
       "        [1., 1., 1., 1., 1.],\n",
       "        [1., 1., 1., 1., 1.]])"
      ]
     },
     "execution_count": 9,
     "metadata": {},
     "output_type": "execute_result"
    }
   ],
   "execution_count": 9
  },
  {
   "metadata": {
    "ExecuteTime": {
     "end_time": "2025-05-30T13:45:03.960688Z",
     "start_time": "2025-05-30T13:45:03.957534Z"
    }
   },
   "cell_type": "code",
   "source": "t = torch.arange(0,10,2)",
   "id": "62492edab6353944",
   "outputs": [],
   "execution_count": 10
  },
  {
   "metadata": {
    "ExecuteTime": {
     "end_time": "2025-05-30T13:45:04.074244Z",
     "start_time": "2025-05-30T13:45:04.070897Z"
    }
   },
   "cell_type": "code",
   "source": "z = torch.zeros_like(t)",
   "id": "5c8d90cfaf031571",
   "outputs": [],
   "execution_count": 11
  },
  {
   "metadata": {
    "ExecuteTime": {
     "end_time": "2025-05-30T13:45:04.181061Z",
     "start_time": "2025-05-30T13:45:04.175834Z"
    }
   },
   "cell_type": "code",
   "source": "z",
   "id": "53057765c578bf60",
   "outputs": [
    {
     "data": {
      "text/plain": [
       "tensor([0, 0, 0, 0, 0])"
      ]
     },
     "execution_count": 12,
     "metadata": {},
     "output_type": "execute_result"
    }
   ],
   "execution_count": 12
  },
  {
   "metadata": {
    "ExecuteTime": {
     "end_time": "2025-05-30T13:45:04.277776Z",
     "start_time": "2025-05-30T13:45:04.271990Z"
    }
   },
   "cell_type": "code",
   "source": "z.device",
   "id": "f2a947a230e2c834",
   "outputs": [
    {
     "data": {
      "text/plain": [
       "device(type='cpu')"
      ]
     },
     "execution_count": 13,
     "metadata": {},
     "output_type": "execute_result"
    }
   ],
   "execution_count": 13
  },
  {
   "metadata": {
    "ExecuteTime": {
     "end_time": "2025-05-30T13:45:04.346466Z",
     "start_time": "2025-05-30T13:45:04.339656Z"
    }
   },
   "cell_type": "code",
   "source": [
    "tensor = torch.tensor([0,10,2])\n",
    "# tensor = tensor.cuda()\n",
    "tensor"
   ],
   "id": "7bfef4bab23d7e16",
   "outputs": [
    {
     "data": {
      "text/plain": [
       "tensor([ 0, 10,  2])"
      ]
     },
     "execution_count": 14,
     "metadata": {},
     "output_type": "execute_result"
    }
   ],
   "execution_count": 14
  },
  {
   "metadata": {
    "ExecuteTime": {
     "end_time": "2025-05-30T13:45:04.419152Z",
     "start_time": "2025-05-30T13:45:04.411492Z"
    }
   },
   "cell_type": "code",
   "source": [
    "%%time\n",
    "torch.matmul(tensor,tensor)"
   ],
   "id": "3fcbdda63786e021",
   "outputs": [
    {
     "name": "stdout",
     "output_type": "stream",
     "text": [
      "CPU times: user 519 μs, sys: 129 μs, total: 648 μs\n",
      "Wall time: 386 μs\n"
     ]
    },
    {
     "data": {
      "text/plain": [
       "tensor(104)"
      ]
     },
     "execution_count": 15,
     "metadata": {},
     "output_type": "execute_result"
    }
   ],
   "execution_count": 15
  },
  {
   "metadata": {
    "ExecuteTime": {
     "end_time": "2025-05-30T13:45:04.481608Z",
     "start_time": "2025-05-30T13:45:04.478134Z"
    }
   },
   "cell_type": "code",
   "source": "tensor @ tensor",
   "id": "aaddc0f7cae7c969",
   "outputs": [
    {
     "data": {
      "text/plain": [
       "tensor(104)"
      ]
     },
     "execution_count": 16,
     "metadata": {},
     "output_type": "execute_result"
    }
   ],
   "execution_count": 16
  },
  {
   "metadata": {
    "ExecuteTime": {
     "end_time": "2025-05-30T13:45:04.551940Z",
     "start_time": "2025-05-30T13:45:04.545616Z"
    }
   },
   "cell_type": "code",
   "source": "torch.mm(torch.rand(3,5),torch.rand(5,1))",
   "id": "89838ebc2be78187",
   "outputs": [
    {
     "data": {
      "text/plain": [
       "tensor([[0.2112],\n",
       "        [0.4718],\n",
       "        [0.5876]])"
      ]
     },
     "execution_count": 17,
     "metadata": {},
     "output_type": "execute_result"
    }
   ],
   "execution_count": 17
  },
  {
   "metadata": {
    "ExecuteTime": {
     "end_time": "2025-05-30T13:45:04.669956Z",
     "start_time": "2025-05-30T13:45:04.667984Z"
    }
   },
   "cell_type": "code",
   "source": "t = torch.rand(3,5)",
   "id": "7caabb8cc5145d0c",
   "outputs": [],
   "execution_count": 18
  },
  {
   "metadata": {
    "ExecuteTime": {
     "end_time": "2025-05-30T13:45:04.784961Z",
     "start_time": "2025-05-30T13:45:04.781536Z"
    }
   },
   "cell_type": "code",
   "source": "t",
   "id": "4265ebd742e80ad0",
   "outputs": [
    {
     "data": {
      "text/plain": [
       "tensor([[0.1803, 0.1270, 0.5182, 0.5822, 0.3764],\n",
       "        [0.5526, 0.9646, 0.7954, 0.9141, 0.1426],\n",
       "        [0.3639, 0.4766, 0.1828, 0.4028, 0.0022]])"
      ]
     },
     "execution_count": 19,
     "metadata": {},
     "output_type": "execute_result"
    }
   ],
   "execution_count": 19
  },
  {
   "metadata": {
    "ExecuteTime": {
     "end_time": "2025-05-30T13:45:04.909368Z",
     "start_time": "2025-05-30T13:45:04.903980Z"
    }
   },
   "cell_type": "code",
   "source": "t.T",
   "id": "63f3a831796c3ae0",
   "outputs": [
    {
     "data": {
      "text/plain": [
       "tensor([[0.1803, 0.5526, 0.3639],\n",
       "        [0.1270, 0.9646, 0.4766],\n",
       "        [0.5182, 0.7954, 0.1828],\n",
       "        [0.5822, 0.9141, 0.4028],\n",
       "        [0.3764, 0.1426, 0.0022]])"
      ]
     },
     "execution_count": 20,
     "metadata": {},
     "output_type": "execute_result"
    }
   ],
   "execution_count": 20
  },
  {
   "metadata": {
    "ExecuteTime": {
     "end_time": "2025-05-30T13:45:05.030860Z",
     "start_time": "2025-05-30T13:45:05.028214Z"
    }
   },
   "cell_type": "code",
   "source": "a = torch.arange(0,100,10)",
   "id": "901a05ee801ccca9",
   "outputs": [],
   "execution_count": 21
  },
  {
   "metadata": {
    "ExecuteTime": {
     "end_time": "2025-05-30T13:45:05.173891Z",
     "start_time": "2025-05-30T13:45:05.168357Z"
    }
   },
   "cell_type": "code",
   "source": [
    "%%time\n",
    "a.type(torch.float32).mean()"
   ],
   "id": "c03a02641e2289bb",
   "outputs": [
    {
     "name": "stdout",
     "output_type": "stream",
     "text": [
      "CPU times: user 800 μs, sys: 185 μs, total: 985 μs\n",
      "Wall time: 600 μs\n"
     ]
    },
    {
     "data": {
      "text/plain": [
       "tensor(45.)"
      ]
     },
     "execution_count": 22,
     "metadata": {},
     "output_type": "execute_result"
    }
   ],
   "execution_count": 22
  },
  {
   "metadata": {
    "ExecuteTime": {
     "end_time": "2025-05-30T13:45:05.334253Z",
     "start_time": "2025-05-30T13:45:05.329355Z"
    }
   },
   "cell_type": "code",
   "source": [
    "%%time\n",
    "a.sum()\n"
   ],
   "id": "21df7e7e93395f23",
   "outputs": [
    {
     "name": "stdout",
     "output_type": "stream",
     "text": [
      "CPU times: user 0 ns, sys: 1.5 ms, total: 1.5 ms\n",
      "Wall time: 814 μs\n"
     ]
    },
    {
     "data": {
      "text/plain": [
       "tensor(450)"
      ]
     },
     "execution_count": 23,
     "metadata": {},
     "output_type": "execute_result"
    }
   ],
   "execution_count": 23
  },
  {
   "metadata": {
    "ExecuteTime": {
     "end_time": "2025-05-30T13:45:05.501041Z",
     "start_time": "2025-05-30T13:45:05.497175Z"
    }
   },
   "cell_type": "code",
   "source": "a.argmin()",
   "id": "86a680bd711fdadd",
   "outputs": [
    {
     "data": {
      "text/plain": [
       "tensor(0)"
      ]
     },
     "execution_count": 24,
     "metadata": {},
     "output_type": "execute_result"
    }
   ],
   "execution_count": 24
  },
  {
   "metadata": {
    "ExecuteTime": {
     "end_time": "2025-05-30T13:45:05.564729Z",
     "start_time": "2025-05-30T13:45:05.562298Z"
    }
   },
   "cell_type": "code",
   "source": "x = torch.arange(1,100,10)",
   "id": "158317b0dbf1a0e",
   "outputs": [],
   "execution_count": 25
  },
  {
   "metadata": {
    "ExecuteTime": {
     "end_time": "2025-05-30T13:45:05.624703Z",
     "start_time": "2025-05-30T13:45:05.618654Z"
    }
   },
   "cell_type": "code",
   "source": "x",
   "id": "716dcbf80f065273",
   "outputs": [
    {
     "data": {
      "text/plain": [
       "tensor([ 1, 11, 21, 31, 41, 51, 61, 71, 81, 91])"
      ]
     },
     "execution_count": 26,
     "metadata": {},
     "output_type": "execute_result"
    }
   ],
   "execution_count": 26
  },
  {
   "metadata": {
    "ExecuteTime": {
     "end_time": "2025-05-30T13:45:05.686322Z",
     "start_time": "2025-05-30T13:45:05.682259Z"
    }
   },
   "cell_type": "code",
   "source": "x = x.reshape(5,2)",
   "id": "b9da080113d5bfd6",
   "outputs": [],
   "execution_count": 27
  },
  {
   "metadata": {
    "ExecuteTime": {
     "end_time": "2025-05-30T13:45:05.749805Z",
     "start_time": "2025-05-30T13:45:05.744824Z"
    }
   },
   "cell_type": "code",
   "source": "z = x.view(5,2)",
   "id": "12c7a4b160980859",
   "outputs": [],
   "execution_count": 28
  },
  {
   "metadata": {
    "ExecuteTime": {
     "end_time": "2025-05-30T13:45:05.811223Z",
     "start_time": "2025-05-30T13:45:05.805255Z"
    }
   },
   "cell_type": "code",
   "source": "z[:,0] = 5",
   "id": "35065b343b5312cb",
   "outputs": [],
   "execution_count": 29
  },
  {
   "metadata": {
    "ExecuteTime": {
     "end_time": "2025-05-30T13:45:05.872513Z",
     "start_time": "2025-05-30T13:45:05.866112Z"
    }
   },
   "cell_type": "code",
   "source": "z",
   "id": "69ba6bc9fdd27b87",
   "outputs": [
    {
     "data": {
      "text/plain": [
       "tensor([[ 5, 11],\n",
       "        [ 5, 31],\n",
       "        [ 5, 51],\n",
       "        [ 5, 71],\n",
       "        [ 5, 91]])"
      ]
     },
     "execution_count": 30,
     "metadata": {},
     "output_type": "execute_result"
    }
   ],
   "execution_count": 30
  },
  {
   "metadata": {
    "ExecuteTime": {
     "end_time": "2025-05-30T13:45:05.979189Z",
     "start_time": "2025-05-30T13:45:05.974676Z"
    }
   },
   "cell_type": "code",
   "source": "x",
   "id": "4d0d7910b6468360",
   "outputs": [
    {
     "data": {
      "text/plain": [
       "tensor([[ 5, 11],\n",
       "        [ 5, 31],\n",
       "        [ 5, 51],\n",
       "        [ 5, 71],\n",
       "        [ 5, 91]])"
      ]
     },
     "execution_count": 31,
     "metadata": {},
     "output_type": "execute_result"
    }
   ],
   "execution_count": 31
  },
  {
   "metadata": {
    "ExecuteTime": {
     "end_time": "2025-05-30T13:45:06.189717Z",
     "start_time": "2025-05-30T13:45:06.187662Z"
    }
   },
   "cell_type": "code",
   "source": "stacd = torch.stack([x,x,x,x,x,x])",
   "id": "8466506400d46872",
   "outputs": [],
   "execution_count": 32
  },
  {
   "metadata": {
    "ExecuteTime": {
     "end_time": "2025-05-30T13:45:06.275133Z",
     "start_time": "2025-05-30T13:45:06.271218Z"
    }
   },
   "cell_type": "code",
   "source": "stacd",
   "id": "18b36b8deccb1db3",
   "outputs": [
    {
     "data": {
      "text/plain": [
       "tensor([[[ 5, 11],\n",
       "         [ 5, 31],\n",
       "         [ 5, 51],\n",
       "         [ 5, 71],\n",
       "         [ 5, 91]],\n",
       "\n",
       "        [[ 5, 11],\n",
       "         [ 5, 31],\n",
       "         [ 5, 51],\n",
       "         [ 5, 71],\n",
       "         [ 5, 91]],\n",
       "\n",
       "        [[ 5, 11],\n",
       "         [ 5, 31],\n",
       "         [ 5, 51],\n",
       "         [ 5, 71],\n",
       "         [ 5, 91]],\n",
       "\n",
       "        [[ 5, 11],\n",
       "         [ 5, 31],\n",
       "         [ 5, 51],\n",
       "         [ 5, 71],\n",
       "         [ 5, 91]],\n",
       "\n",
       "        [[ 5, 11],\n",
       "         [ 5, 31],\n",
       "         [ 5, 51],\n",
       "         [ 5, 71],\n",
       "         [ 5, 91]],\n",
       "\n",
       "        [[ 5, 11],\n",
       "         [ 5, 31],\n",
       "         [ 5, 51],\n",
       "         [ 5, 71],\n",
       "         [ 5, 91]]])"
      ]
     },
     "execution_count": 33,
     "metadata": {},
     "output_type": "execute_result"
    }
   ],
   "execution_count": 33
  },
  {
   "metadata": {
    "ExecuteTime": {
     "end_time": "2025-05-30T13:45:06.398763Z",
     "start_time": "2025-05-30T13:45:06.393606Z"
    }
   },
   "cell_type": "code",
   "source": [
    "x = x.reshape(10,1)\n",
    "x.shape"
   ],
   "id": "fc711959d9fd5d72",
   "outputs": [
    {
     "data": {
      "text/plain": [
       "torch.Size([10, 1])"
      ]
     },
     "execution_count": 34,
     "metadata": {},
     "output_type": "execute_result"
    }
   ],
   "execution_count": 34
  },
  {
   "metadata": {
    "ExecuteTime": {
     "end_time": "2025-05-30T13:45:06.470057Z",
     "start_time": "2025-05-30T13:45:06.465218Z"
    }
   },
   "cell_type": "code",
   "source": "te = x.squeeze()",
   "id": "48065eadc07e61ab",
   "outputs": [],
   "execution_count": 35
  },
  {
   "metadata": {
    "ExecuteTime": {
     "end_time": "2025-05-30T13:45:06.529941Z",
     "start_time": "2025-05-30T13:45:06.524352Z"
    }
   },
   "cell_type": "code",
   "source": "te",
   "id": "938a25ae8976f7f",
   "outputs": [
    {
     "data": {
      "text/plain": [
       "tensor([ 5, 11,  5, 31,  5, 51,  5, 71,  5, 91])"
      ]
     },
     "execution_count": 36,
     "metadata": {},
     "output_type": "execute_result"
    }
   ],
   "execution_count": 36
  },
  {
   "metadata": {
    "ExecuteTime": {
     "end_time": "2025-05-30T13:45:06.590415Z",
     "start_time": "2025-05-30T13:45:06.586146Z"
    }
   },
   "cell_type": "code",
   "source": "te.shape",
   "id": "a9dfaf459b19c2bb",
   "outputs": [
    {
     "data": {
      "text/plain": [
       "torch.Size([10])"
      ]
     },
     "execution_count": 37,
     "metadata": {},
     "output_type": "execute_result"
    }
   ],
   "execution_count": 37
  },
  {
   "metadata": {
    "ExecuteTime": {
     "end_time": "2025-05-30T13:45:06.647099Z",
     "start_time": "2025-05-30T13:45:06.643575Z"
    }
   },
   "cell_type": "code",
   "source": "te.unsqueeze(dim=1)",
   "id": "da81a9ac81bf8111",
   "outputs": [
    {
     "data": {
      "text/plain": [
       "tensor([[ 5],\n",
       "        [11],\n",
       "        [ 5],\n",
       "        [31],\n",
       "        [ 5],\n",
       "        [51],\n",
       "        [ 5],\n",
       "        [71],\n",
       "        [ 5],\n",
       "        [91]])"
      ]
     },
     "execution_count": 38,
     "metadata": {},
     "output_type": "execute_result"
    }
   ],
   "execution_count": 38
  },
  {
   "metadata": {
    "ExecuteTime": {
     "end_time": "2025-05-30T13:45:06.747831Z",
     "start_time": "2025-05-30T13:45:06.744078Z"
    }
   },
   "cell_type": "code",
   "source": [
    "x = torch.randn(224,224,3)\n",
    "x.size()"
   ],
   "id": "6df9c900ce4ba872",
   "outputs": [
    {
     "data": {
      "text/plain": [
       "torch.Size([224, 224, 3])"
      ]
     },
     "execution_count": 39,
     "metadata": {},
     "output_type": "execute_result"
    }
   ],
   "execution_count": 39
  },
  {
   "metadata": {
    "ExecuteTime": {
     "end_time": "2025-05-30T13:45:06.874072Z",
     "start_time": "2025-05-30T13:45:06.870578Z"
    }
   },
   "cell_type": "code",
   "source": "per = x.permute(2,0,1)",
   "id": "1107d8ff0fb57aec",
   "outputs": [],
   "execution_count": 40
  },
  {
   "metadata": {
    "ExecuteTime": {
     "end_time": "2025-05-30T13:45:06.974028Z",
     "start_time": "2025-05-30T13:45:06.970720Z"
    }
   },
   "cell_type": "code",
   "source": "per.shape",
   "id": "f0005153cd4f28e8",
   "outputs": [
    {
     "data": {
      "text/plain": [
       "torch.Size([3, 224, 224])"
      ]
     },
     "execution_count": 41,
     "metadata": {},
     "output_type": "execute_result"
    }
   ],
   "execution_count": 41
  },
  {
   "metadata": {
    "ExecuteTime": {
     "end_time": "2025-05-30T13:45:07.050913Z",
     "start_time": "2025-05-30T13:45:07.046558Z"
    }
   },
   "cell_type": "code",
   "source": "x[0,0,0] = 728218",
   "id": "acc95b60917cd794",
   "outputs": [],
   "execution_count": 42
  },
  {
   "metadata": {
    "ExecuteTime": {
     "end_time": "2025-05-30T13:45:07.107506Z",
     "start_time": "2025-05-30T13:45:07.100267Z"
    }
   },
   "cell_type": "code",
   "source": "x[0,0,0]",
   "id": "88c18aa9a5bc0819",
   "outputs": [
    {
     "data": {
      "text/plain": [
       "tensor(728218.)"
      ]
     },
     "execution_count": 43,
     "metadata": {},
     "output_type": "execute_result"
    }
   ],
   "execution_count": 43
  },
  {
   "metadata": {
    "ExecuteTime": {
     "end_time": "2025-05-30T13:45:07.175069Z",
     "start_time": "2025-05-30T13:45:07.171384Z"
    }
   },
   "cell_type": "code",
   "source": "per = x.permute(2,0,1)",
   "id": "2b9e7cea48cd7544",
   "outputs": [],
   "execution_count": 44
  },
  {
   "metadata": {
    "ExecuteTime": {
     "end_time": "2025-05-30T13:45:07.246039Z",
     "start_time": "2025-05-30T13:45:07.241802Z"
    }
   },
   "cell_type": "code",
   "source": "per[0,0,0]",
   "id": "80448615ca25df2",
   "outputs": [
    {
     "data": {
      "text/plain": [
       "tensor(728218.)"
      ]
     },
     "execution_count": 45,
     "metadata": {},
     "output_type": "execute_result"
    }
   ],
   "execution_count": 45
  },
  {
   "metadata": {
    "ExecuteTime": {
     "end_time": "2025-05-30T13:45:07.307284Z",
     "start_time": "2025-05-30T13:45:07.304721Z"
    }
   },
   "cell_type": "code",
   "source": "new = torch.arange(1,10).reshape(1,3,3)",
   "id": "2f9fd9e62bf55c6d",
   "outputs": [],
   "execution_count": 46
  },
  {
   "metadata": {
    "ExecuteTime": {
     "end_time": "2025-05-30T13:45:07.381994Z",
     "start_time": "2025-05-30T13:45:07.377507Z"
    }
   },
   "cell_type": "code",
   "source": "new",
   "id": "9cd41844a127d1a2",
   "outputs": [
    {
     "data": {
      "text/plain": [
       "tensor([[[1, 2, 3],\n",
       "         [4, 5, 6],\n",
       "         [7, 8, 9]]])"
      ]
     },
     "execution_count": 47,
     "metadata": {},
     "output_type": "execute_result"
    }
   ],
   "execution_count": 47
  },
  {
   "metadata": {
    "ExecuteTime": {
     "end_time": "2025-05-30T13:45:07.469342Z",
     "start_time": "2025-05-30T13:45:07.462579Z"
    }
   },
   "cell_type": "code",
   "source": "new[0,0]",
   "id": "64f470378a2a5199",
   "outputs": [
    {
     "data": {
      "text/plain": [
       "tensor([1, 2, 3])"
      ]
     },
     "execution_count": 48,
     "metadata": {},
     "output_type": "execute_result"
    }
   ],
   "execution_count": 48
  },
  {
   "metadata": {
    "ExecuteTime": {
     "end_time": "2025-05-30T13:45:07.547326Z",
     "start_time": "2025-05-30T13:45:07.540499Z"
    }
   },
   "cell_type": "code",
   "source": "new[0][2][2]",
   "id": "988b0ee8bc5f78d7",
   "outputs": [
    {
     "data": {
      "text/plain": [
       "tensor(9)"
      ]
     },
     "execution_count": 49,
     "metadata": {},
     "output_type": "execute_result"
    }
   ],
   "execution_count": 49
  },
  {
   "metadata": {
    "ExecuteTime": {
     "end_time": "2025-05-30T13:45:07.615843Z",
     "start_time": "2025-05-30T13:45:07.610805Z"
    }
   },
   "cell_type": "code",
   "source": "new[:,:,2]",
   "id": "d12bcc49dae64a83",
   "outputs": [
    {
     "data": {
      "text/plain": [
       "tensor([[3, 6, 9]])"
      ]
     },
     "execution_count": 50,
     "metadata": {},
     "output_type": "execute_result"
    }
   ],
   "execution_count": 50
  },
  {
   "metadata": {
    "ExecuteTime": {
     "end_time": "2025-05-30T13:45:07.738941Z",
     "start_time": "2025-05-30T13:45:07.734373Z"
    }
   },
   "cell_type": "code",
   "source": [
    "torch.manual_seed(42)\n",
    "torch.rand(3,4)"
   ],
   "id": "43400ba632c49727",
   "outputs": [
    {
     "data": {
      "text/plain": [
       "tensor([[0.8823, 0.9150, 0.3829, 0.9593],\n",
       "        [0.3904, 0.6009, 0.2566, 0.7936],\n",
       "        [0.9408, 0.1332, 0.9346, 0.5936]])"
      ]
     },
     "execution_count": 51,
     "metadata": {},
     "output_type": "execute_result"
    }
   ],
   "execution_count": 51
  },
  {
   "metadata": {
    "ExecuteTime": {
     "end_time": "2025-05-30T13:45:07.869878Z",
     "start_time": "2025-05-30T13:45:07.864220Z"
    }
   },
   "cell_type": "code",
   "source": [
    "torch.manual_seed(42)\n",
    "torch.rand(3,4)"
   ],
   "id": "b896c18461967fe5",
   "outputs": [
    {
     "data": {
      "text/plain": [
       "tensor([[0.8823, 0.9150, 0.3829, 0.9593],\n",
       "        [0.3904, 0.6009, 0.2566, 0.7936],\n",
       "        [0.9408, 0.1332, 0.9346, 0.5936]])"
      ]
     },
     "execution_count": 52,
     "metadata": {},
     "output_type": "execute_result"
    }
   ],
   "execution_count": 52
  },
  {
   "metadata": {
    "ExecuteTime": {
     "end_time": "2025-05-30T13:45:08.017939Z",
     "start_time": "2025-05-30T13:45:08.014879Z"
    }
   },
   "cell_type": "code",
   "source": "torch.cuda.device_count()",
   "id": "7d3913700c7b2ffd",
   "outputs": [
    {
     "data": {
      "text/plain": [
       "1"
      ]
     },
     "execution_count": 53,
     "metadata": {},
     "output_type": "execute_result"
    }
   ],
   "execution_count": 53
  },
  {
   "metadata": {
    "ExecuteTime": {
     "end_time": "2025-05-30T13:45:08.232326Z",
     "start_time": "2025-05-30T13:45:08.226750Z"
    }
   },
   "cell_type": "code",
   "source": "new.device",
   "id": "dff8c89c59bec237",
   "outputs": [
    {
     "data": {
      "text/plain": [
       "device(type='cpu')"
      ]
     },
     "execution_count": 54,
     "metadata": {},
     "output_type": "execute_result"
    }
   ],
   "execution_count": 54
  },
  {
   "metadata": {
    "ExecuteTime": {
     "end_time": "2025-05-30T13:47:35.230470Z",
     "start_time": "2025-05-30T13:47:35.227286Z"
    }
   },
   "cell_type": "code",
   "source": "t = torch.tensor([1,2,3,4,5])",
   "id": "af7b67ad0be4f9a",
   "outputs": [],
   "execution_count": 68
  },
  {
   "metadata": {
    "ExecuteTime": {
     "end_time": "2025-05-30T13:47:35.940654Z",
     "start_time": "2025-05-30T13:47:35.935573Z"
    }
   },
   "cell_type": "code",
   "source": "t",
   "id": "df33c9f78faa025f",
   "outputs": [
    {
     "data": {
      "text/plain": [
       "tensor([1, 2, 3, 4, 5])"
      ]
     },
     "execution_count": 69,
     "metadata": {},
     "output_type": "execute_result"
    }
   ],
   "execution_count": 69
  },
  {
   "metadata": {
    "ExecuteTime": {
     "end_time": "2025-05-30T13:47:36.535386Z",
     "start_time": "2025-05-30T13:47:36.529095Z"
    }
   },
   "cell_type": "code",
   "source": "t.device",
   "id": "d23eaf43628b3af8",
   "outputs": [
    {
     "data": {
      "text/plain": [
       "device(type='cpu')"
      ]
     },
     "execution_count": 70,
     "metadata": {},
     "output_type": "execute_result"
    }
   ],
   "execution_count": 70
  },
  {
   "metadata": {
    "ExecuteTime": {
     "end_time": "2025-05-30T13:47:36.905700Z",
     "start_time": "2025-05-30T13:47:36.883478Z"
    }
   },
   "cell_type": "code",
   "source": [
    "%%time\n",
    "t= t.to('cuda')"
   ],
   "id": "77a8e40def9786f5",
   "outputs": [
    {
     "name": "stdout",
     "output_type": "stream",
     "text": [
      "CPU times: user 1.71 ms, sys: 18.1 ms, total: 19.8 ms\n",
      "Wall time: 18.4 ms\n"
     ]
    }
   ],
   "execution_count": 71
  },
  {
   "metadata": {
    "ExecuteTime": {
     "end_time": "2025-05-30T13:47:37.541431Z",
     "start_time": "2025-05-30T13:47:37.532320Z"
    }
   },
   "cell_type": "code",
   "source": [
    "%%time\n",
    "t.cuda()"
   ],
   "id": "bcf6904fb9b3811e",
   "outputs": [
    {
     "name": "stdout",
     "output_type": "stream",
     "text": [
      "CPU times: user 50 μs, sys: 0 ns, total: 50 μs\n",
      "Wall time: 57.9 μs\n"
     ]
    },
    {
     "data": {
      "text/plain": [
       "tensor([1, 2, 3, 4, 5], device='cuda:0')"
      ]
     },
     "execution_count": 72,
     "metadata": {},
     "output_type": "execute_result"
    }
   ],
   "execution_count": 72
  },
  {
   "metadata": {
    "ExecuteTime": {
     "end_time": "2025-05-30T13:47:37.971355Z",
     "start_time": "2025-05-30T13:47:37.946137Z"
    }
   },
   "cell_type": "code",
   "source": "t.numpy()",
   "id": "bc2b65cab36393ad",
   "outputs": [
    {
     "ename": "TypeError",
     "evalue": "can't convert cuda:0 device type tensor to numpy. Use Tensor.cpu() to copy the tensor to host memory first.",
     "output_type": "error",
     "traceback": [
      "\u001B[31m---------------------------------------------------------------------------\u001B[39m",
      "\u001B[31mTypeError\u001B[39m                                 Traceback (most recent call last)",
      "\u001B[36mCell\u001B[39m\u001B[36m \u001B[39m\u001B[32mIn[73]\u001B[39m\u001B[32m, line 1\u001B[39m\n\u001B[32m----> \u001B[39m\u001B[32m1\u001B[39m \u001B[43mt\u001B[49m\u001B[43m.\u001B[49m\u001B[43mnumpy\u001B[49m\u001B[43m(\u001B[49m\u001B[43m)\u001B[49m\n",
      "\u001B[31mTypeError\u001B[39m: can't convert cuda:0 device type tensor to numpy. Use Tensor.cpu() to copy the tensor to host memory first."
     ]
    }
   ],
   "execution_count": 73
  },
  {
   "metadata": {
    "ExecuteTime": {
     "end_time": "2025-05-30T13:47:38.746488Z",
     "start_time": "2025-05-30T13:47:38.739415Z"
    }
   },
   "cell_type": "code",
   "source": [
    "t = t.cpu().numpy()\n",
    "t"
   ],
   "id": "abd2c6fe61a3e236",
   "outputs": [
    {
     "data": {
      "text/plain": [
       "array([1, 2, 3, 4, 5])"
      ]
     },
     "execution_count": 74,
     "metadata": {},
     "output_type": "execute_result"
    }
   ],
   "execution_count": 74
  },
  {
   "metadata": {
    "ExecuteTime": {
     "end_time": "2025-05-30T13:59:58.651949Z",
     "start_time": "2025-05-30T13:59:58.647661Z"
    }
   },
   "cell_type": "code",
   "source": [
    "# torch.manual_seed(42)\n",
    "t = torch.rand(1,7)"
   ],
   "id": "5567351ca7ff1044",
   "outputs": [],
   "execution_count": 125
  },
  {
   "metadata": {
    "ExecuteTime": {
     "end_time": "2025-05-30T14:04:19.487971Z",
     "start_time": "2025-05-30T14:04:19.480305Z"
    }
   },
   "cell_type": "code",
   "source": "torch.matmul(torch.rand(7,7),torch.rand(1,7).T)",
   "id": "d41593c74451b1ca",
   "outputs": [
    {
     "data": {
      "text/plain": [
       "tensor([[1.7425],\n",
       "        [1.5797],\n",
       "        [1.2682],\n",
       "        [0.7689],\n",
       "        [1.5170],\n",
       "        [1.0868],\n",
       "        [0.9026]])"
      ]
     },
     "execution_count": 129,
     "metadata": {},
     "output_type": "execute_result"
    }
   ],
   "execution_count": 129
  },
  {
   "metadata": {
    "ExecuteTime": {
     "end_time": "2025-05-30T14:08:45.137794Z",
     "start_time": "2025-05-30T14:08:45.114892Z"
    }
   },
   "cell_type": "code",
   "source": [
    "torch.manual_seed(1234)\n",
    "a = (torch.rand(2,3)).to(\"cuda\")"
   ],
   "id": "833876015307e84b",
   "outputs": [],
   "execution_count": 141
  },
  {
   "metadata": {
    "ExecuteTime": {
     "end_time": "2025-05-30T14:08:47.715565Z",
     "start_time": "2025-05-30T14:08:47.710811Z"
    }
   },
   "cell_type": "code",
   "source": "b = (torch.rand(2,3)).to(\"cuda\")",
   "id": "6d91499300537bfa",
   "outputs": [],
   "execution_count": 142
  },
  {
   "metadata": {
    "ExecuteTime": {
     "end_time": "2025-05-30T14:08:51.887823Z",
     "start_time": "2025-05-30T14:08:51.878763Z"
    }
   },
   "cell_type": "code",
   "source": "a,b",
   "id": "7c174e2587337fd4",
   "outputs": [
    {
     "data": {
      "text/plain": [
       "(tensor([[0.0290, 0.4019, 0.2598],\n",
       "         [0.3666, 0.0583, 0.7006]], device='cuda:0'),\n",
       " tensor([[0.0518, 0.4681, 0.6738],\n",
       "         [0.3315, 0.7837, 0.5631]], device='cuda:0'))"
      ]
     },
     "execution_count": 143,
     "metadata": {},
     "output_type": "execute_result"
    }
   ],
   "execution_count": 143
  },
  {
   "metadata": {
    "ExecuteTime": {
     "end_time": "2025-05-30T14:09:28.086797Z",
     "start_time": "2025-05-30T14:09:28.084672Z"
    }
   },
   "cell_type": "code",
   "source": "c =torch.matmul(a,b.T)",
   "id": "e4e9316a455b621b",
   "outputs": [],
   "execution_count": 145
  },
  {
   "metadata": {
    "ExecuteTime": {
     "end_time": "2025-05-30T14:09:45.018787Z",
     "start_time": "2025-05-30T14:09:45.005058Z"
    }
   },
   "cell_type": "code",
   "source": "print(c)",
   "id": "f2175f6496edc7a0",
   "outputs": [
    {
     "name": "stdout",
     "output_type": "stream",
     "text": [
      "tensor([[0.3647, 0.4709],\n",
      "        [0.5184, 0.5617]], device='cuda:0')\n"
     ]
    }
   ],
   "execution_count": 147
  },
  {
   "metadata": {
    "ExecuteTime": {
     "end_time": "2025-05-30T14:10:51.503824Z",
     "start_time": "2025-05-30T14:10:51.499844Z"
    }
   },
   "cell_type": "code",
   "source": "a = torch.rand(1, 1, 1, 10)",
   "id": "1b823081a9e51a9a",
   "outputs": [],
   "execution_count": 149
  },
  {
   "metadata": {
    "ExecuteTime": {
     "end_time": "2025-05-30T14:11:08.528754Z",
     "start_time": "2025-05-30T14:11:08.525475Z"
    }
   },
   "cell_type": "code",
   "source": "a.size()",
   "id": "e8daa961ea0d978",
   "outputs": [
    {
     "data": {
      "text/plain": [
       "torch.Size([1, 1, 1, 10])"
      ]
     },
     "execution_count": 152,
     "metadata": {},
     "output_type": "execute_result"
    }
   ],
   "execution_count": 152
  },
  {
   "metadata": {
    "ExecuteTime": {
     "end_time": "2025-05-30T14:11:37.921454Z",
     "start_time": "2025-05-30T14:11:37.915678Z"
    }
   },
   "cell_type": "code",
   "source": "a.squeeze().size()",
   "id": "f5c35d199d978df",
   "outputs": [
    {
     "data": {
      "text/plain": [
       "torch.Size([10])"
      ]
     },
     "execution_count": 154,
     "metadata": {},
     "output_type": "execute_result"
    }
   ],
   "execution_count": 154
  },
  {
   "metadata": {},
   "cell_type": "code",
   "outputs": [],
   "execution_count": null,
   "source": "",
   "id": "f5b1e07bfb325c8d"
  }
 ],
 "metadata": {},
 "nbformat": 4,
 "nbformat_minor": 5
}
